{
  "nbformat": 4,
  "nbformat_minor": 0,
  "metadata": {
    "colab": {
      "provenance": [],
      "authorship_tag": "ABX9TyMM/5rZyg5AJyF20PrAQLsz",
      "include_colab_link": true
    },
    "kernelspec": {
      "name": "python3",
      "display_name": "Python 3"
    },
    "language_info": {
      "name": "python"
    }
  },
  "cells": [
    {
      "cell_type": "markdown",
      "metadata": {
        "id": "view-in-github",
        "colab_type": "text"
      },
      "source": [
        "<a href=\"https://colab.research.google.com/github/Kevyn-Marques/Python/blob/main/Exerc%C3%ADcios_do_dia_26_10.ipynb\" target=\"_parent\"><img src=\"https://colab.research.google.com/assets/colab-badge.svg\" alt=\"Open In Colab\"/></a>"
      ]
    },
    {
      "cell_type": "code",
      "execution_count": null,
      "metadata": {
        "colab": {
          "base_uri": "https://localhost:8080/"
        },
        "id": "3Fr8ikAGNv2j",
        "outputId": "d0fd9ad8-f7b0-4e32-9221-1115390451eb"
      },
      "outputs": [
        {
          "output_type": "stream",
          "name": "stdout",
          "text": [
            "Digite um número inicial: 1\n",
            "Digite um número final: 9\n",
            "1\n",
            "2\n",
            "3\n",
            "4\n",
            "5\n",
            "6\n",
            "7\n",
            "8\n"
          ]
        }
      ],
      "source": [
        "# 1. Faça um algoritmo que escreva na tela os números de um número inicial a um número final. Os números inicial e final devem ser informados pelo usuário; sei a quantidade\n",
        "\n",
        "numb = int(input(\"Digite um número inicial: \"))\n",
        "bmun = int(input(\"Digite um número final: \"))\n",
        "for i in range(numb,bmun):\n",
        " print(i)"
      ]
    },
    {
      "cell_type": "code",
      "source": [
        "# 2.Escrever um algoritmo que imprima a tabuada de um número informado pelo usuário\n",
        "\n",
        "tabuada = int(input(\"Digite um numero para que inforomemos sua tabuada: \"))\n",
        "for i in range(1,11):\n",
        "  print(tabuada * i)"
      ],
      "metadata": {
        "colab": {
          "base_uri": "https://localhost:8080/"
        },
        "id": "mQT1WhbqQd5v",
        "outputId": "92a6b369-609b-4af5-f0df-64f89099d094"
      },
      "execution_count": null,
      "outputs": [
        {
          "output_type": "stream",
          "name": "stdout",
          "text": [
            "Digite um numero para que inforomemos sua tabuada: 9\n",
            "9\n",
            "18\n",
            "27\n",
            "36\n",
            "45\n",
            "54\n",
            "63\n",
            "72\n",
            "81\n",
            "90\n"
          ]
        }
      ]
    },
    {
      "cell_type": "code",
      "source": [
        "# 3.Escrever um algoritmo que gera e escreve os números ímpares entre 100 e 200\n",
        "for i in range(100,200):\n",
        "  if i%2 == 1:\n",
        "    print(i)"
      ],
      "metadata": {
        "colab": {
          "base_uri": "https://localhost:8080/"
        },
        "id": "ivrgH7cER0EV",
        "outputId": "6d309fda-99c3-4c01-b9d1-0f36b4641f97"
      },
      "execution_count": null,
      "outputs": [
        {
          "output_type": "stream",
          "name": "stdout",
          "text": [
            "101\n",
            "103\n",
            "105\n",
            "107\n",
            "109\n",
            "111\n",
            "113\n",
            "115\n",
            "117\n",
            "119\n",
            "121\n",
            "123\n",
            "125\n",
            "127\n",
            "129\n",
            "131\n",
            "133\n",
            "135\n",
            "137\n",
            "139\n",
            "141\n",
            "143\n",
            "145\n",
            "147\n",
            "149\n",
            "151\n",
            "153\n",
            "155\n",
            "157\n",
            "159\n",
            "161\n",
            "163\n",
            "165\n",
            "167\n",
            "169\n",
            "171\n",
            "173\n",
            "175\n",
            "177\n",
            "179\n",
            "181\n",
            "183\n",
            "185\n",
            "187\n",
            "189\n",
            "191\n",
            "193\n",
            "195\n",
            "197\n",
            "199\n"
          ]
        }
      ]
    },
    {
      "cell_type": "code",
      "source": [
        "#4. Faça um programa que solicite cod da conta(exemplo: 122345) e senha(exemplo: 1234), o programa deve verificar o usuário e senha e tentar até três vezes para receber a senha correta, caso contrario o cartão é cancelado se digitar errado 3 vezes.\n",
        "\n",
        "cod = int(input(\"Digite o codigo da sua conta: \"))\n",
        "senha1 = int(input(\"Digite sua senha: \"))\n",
        "senha2 = int(input(\"Confirme sua senha: \"))\n",
        "if senha1 == senha2:\n",
        " print(\"Bem vindo a sua conta!\")\n",
        "else:\n",
        "  resenha = int(input(\"Digite sua senha novamente: \"))\n",
        "  if resenha == senha1:\n",
        "    print(\"Bem vindo a sua conta!\")\n",
        "  else:\n",
        "    resenha1 = int(input(\"Tente mais uma vez: \"))\n",
        "    if resenha1 == senha1:\n",
        "       print(\"Bem vindo a sua conta!\")\n",
        "    else:\n",
        "      print(\"Está conta esta bloqueada\")\n"
      ],
      "metadata": {
        "colab": {
          "base_uri": "https://localhost:8080/"
        },
        "id": "DEFtQTn-UqO1",
        "outputId": "3b0cde3b-13b6-4226-ffa2-ced4bdb7719f"
      },
      "execution_count": null,
      "outputs": [
        {
          "output_type": "stream",
          "name": "stdout",
          "text": [
            "Digite o codigo da sua conta: 122345\n",
            "Digite sua senha: 12\n",
            "Confirme sua senha: 1\n",
            "Digite sua senha novamente: 1\n",
            "Tente mais uma vez: 12\n",
            "Bem vindo a sua conta!\n"
          ]
        }
      ]
    },
    {
      "cell_type": "code",
      "source": [
        "# 5. Depois do Código anterior, caso o usuário digite o usuário e senha corretos o programa deve da a oportunidade do usuario escolher a operação a ser feita: Saque, depósito ou ver saldo, ,caso escolha saque ==> subtraia o valor do saque do seu saldo, ,caso escolha depósito ==> some o valor do depósito ao seu saldo,,caso escolha saldo ==> mostre o saldo.,caso escolha sair ==> sai do programa\n",
        "codigo_da_conta_correta = \"122345\"\n",
        "senha_correta = \"1234\"\n",
        "saldo = 1000.0\n",
        "while opcao > 0:\n",
        "    codigo_da_conta = input(\"Digite o código da conta: \")\n",
        "    senha = input(\"Digite a senha: \")\n",
        "\n",
        "    if codigo_da_conta == codigo_da_conta_correta and senha == senha_correta:\n",
        "        print(\"Acesso concedido. Bem-vindo à sua conta.\")\n",
        "        while True:\n",
        "            print(\"\\nOpções:\")\n",
        "            print(\"1. Saque\")\n",
        "            print(\"2. Depósito\")\n",
        "            print(\"3. Ver saldo\")\n",
        "            print(\"4. Sair\")\n",
        "            opcao = input(\"Escolha uma opção (1/2/3/4): \")\n",
        "\n",
        "            if opcao == \"1\":\n",
        "                valor_saque = float(input(\"Digite o valor do saque: \"))\n",
        "                if valor_saque > saldo:\n",
        "                    print(\"Saldo insuficiente. Operação não realizada.\")\n",
        "                else:\n",
        "                    saldo -= valor_saque\n",
        "                    print(f\"Saque de R${valor_saque} realizado com sucesso.\")\n",
        "            elif opcao == \"2\":\n",
        "                valor_deposito = float(input(\"Digite o valor do depósito: \"))\n",
        "                saldo += valor_deposito\n",
        "                print(f\"Depósito de R${valor_deposito} realizado com sucesso.\")\n",
        "            elif opcao == \"3\":\n",
        "                print(f\"Saldo atual: R${saldo}\")\n",
        "            elif opcao == \"4\":\n",
        "                print(\"Obrigado por usar nosso serviço. Volte sempre!\")\n",
        "                break\n",
        "            else:\n",
        "                print(\"Opção inválida. Tente novamente.\")\n",
        "    else:\n",
        "        print(\"Código da conta ou senha incorretos. Tente novamente.\")\n",
        "        tentativas -= 1\n",
        "\n",
        "if tentativas == 0:\n",
        "    print(\"Cartão cancelado devido a múltiplas tentativas incorretas.\")\n"
      ],
      "metadata": {
        "colab": {
          "base_uri": "https://localhost:8080/",
          "height": 825
        },
        "id": "sozN7qLBYtgA",
        "outputId": "cb243a62-4ef2-413a-b8e2-582f44e1775a"
      },
      "execution_count": null,
      "outputs": [
        {
          "output_type": "stream",
          "name": "stdout",
          "text": [
            "Digite o código da conta: 122345\n",
            "Digite a senha: 1234\n",
            "Acesso concedido. Bem-vindo à sua conta.\n",
            "\n",
            "Opções:\n",
            "1. Saque\n",
            "2. Depósito\n",
            "3. Ver saldo\n",
            "4. Sair\n",
            "Escolha uma opção (1/2/3/4): 4\n",
            "Opção inválida. Tente novamente.\n",
            "\n",
            "Opções:\n",
            "1. Saque\n",
            "2. Depósito\n",
            "3. Ver saldo\n",
            "4. Sair\n",
            "Escolha uma opção (1/2/3/4): 4\n",
            "Opção inválida. Tente novamente.\n",
            "\n",
            "Opções:\n",
            "1. Saque\n",
            "2. Depósito\n",
            "3. Ver saldo\n",
            "4. Sair\n"
          ]
        },
        {
          "output_type": "error",
          "ename": "KeyboardInterrupt",
          "evalue": "ignored",
          "traceback": [
            "\u001b[0;31m---------------------------------------------------------------------------\u001b[0m",
            "\u001b[0;31mKeyboardInterrupt\u001b[0m                         Traceback (most recent call last)",
            "\u001b[0;32m<ipython-input-27-11166f37ac4b>\u001b[0m in \u001b[0;36m<cell line: 5>\u001b[0;34m()\u001b[0m\n\u001b[1;32m     15\u001b[0m             \u001b[0mprint\u001b[0m\u001b[0;34m(\u001b[0m\u001b[0;34m\"3. Ver saldo\"\u001b[0m\u001b[0;34m)\u001b[0m\u001b[0;34m\u001b[0m\u001b[0;34m\u001b[0m\u001b[0m\n\u001b[1;32m     16\u001b[0m             \u001b[0mprint\u001b[0m\u001b[0;34m(\u001b[0m\u001b[0;34m\"4. Sair\"\u001b[0m\u001b[0;34m)\u001b[0m\u001b[0;34m\u001b[0m\u001b[0;34m\u001b[0m\u001b[0m\n\u001b[0;32m---> 17\u001b[0;31m             \u001b[0mopcao\u001b[0m \u001b[0;34m=\u001b[0m \u001b[0mint\u001b[0m\u001b[0;34m(\u001b[0m\u001b[0minput\u001b[0m\u001b[0;34m(\u001b[0m\u001b[0;34m\"Escolha uma opção (1/2/3/4): \"\u001b[0m\u001b[0;34m)\u001b[0m\u001b[0;34m)\u001b[0m\u001b[0;34m\u001b[0m\u001b[0;34m\u001b[0m\u001b[0m\n\u001b[0m\u001b[1;32m     18\u001b[0m \u001b[0;34m\u001b[0m\u001b[0m\n\u001b[1;32m     19\u001b[0m             \u001b[0;32mif\u001b[0m \u001b[0mopcao\u001b[0m \u001b[0;34m==\u001b[0m \u001b[0;34m\"1\"\u001b[0m\u001b[0;34m:\u001b[0m\u001b[0;34m\u001b[0m\u001b[0;34m\u001b[0m\u001b[0m\n",
            "\u001b[0;32m/usr/local/lib/python3.10/dist-packages/ipykernel/kernelbase.py\u001b[0m in \u001b[0;36mraw_input\u001b[0;34m(self, prompt)\u001b[0m\n\u001b[1;32m    849\u001b[0m                 \u001b[0;34m\"raw_input was called, but this frontend does not support input requests.\"\u001b[0m\u001b[0;34m\u001b[0m\u001b[0;34m\u001b[0m\u001b[0m\n\u001b[1;32m    850\u001b[0m             )\n\u001b[0;32m--> 851\u001b[0;31m         return self._input_request(str(prompt),\n\u001b[0m\u001b[1;32m    852\u001b[0m             \u001b[0mself\u001b[0m\u001b[0;34m.\u001b[0m\u001b[0m_parent_ident\u001b[0m\u001b[0;34m,\u001b[0m\u001b[0;34m\u001b[0m\u001b[0;34m\u001b[0m\u001b[0m\n\u001b[1;32m    853\u001b[0m             \u001b[0mself\u001b[0m\u001b[0;34m.\u001b[0m\u001b[0m_parent_header\u001b[0m\u001b[0;34m,\u001b[0m\u001b[0;34m\u001b[0m\u001b[0;34m\u001b[0m\u001b[0m\n",
            "\u001b[0;32m/usr/local/lib/python3.10/dist-packages/ipykernel/kernelbase.py\u001b[0m in \u001b[0;36m_input_request\u001b[0;34m(self, prompt, ident, parent, password)\u001b[0m\n\u001b[1;32m    893\u001b[0m             \u001b[0;32mexcept\u001b[0m \u001b[0mKeyboardInterrupt\u001b[0m\u001b[0;34m:\u001b[0m\u001b[0;34m\u001b[0m\u001b[0;34m\u001b[0m\u001b[0m\n\u001b[1;32m    894\u001b[0m                 \u001b[0;31m# re-raise KeyboardInterrupt, to truncate traceback\u001b[0m\u001b[0;34m\u001b[0m\u001b[0;34m\u001b[0m\u001b[0m\n\u001b[0;32m--> 895\u001b[0;31m                 \u001b[0;32mraise\u001b[0m \u001b[0mKeyboardInterrupt\u001b[0m\u001b[0;34m(\u001b[0m\u001b[0;34m\"Interrupted by user\"\u001b[0m\u001b[0;34m)\u001b[0m \u001b[0;32mfrom\u001b[0m \u001b[0;32mNone\u001b[0m\u001b[0;34m\u001b[0m\u001b[0;34m\u001b[0m\u001b[0m\n\u001b[0m\u001b[1;32m    896\u001b[0m             \u001b[0;32mexcept\u001b[0m \u001b[0mException\u001b[0m \u001b[0;32mas\u001b[0m \u001b[0me\u001b[0m\u001b[0;34m:\u001b[0m\u001b[0;34m\u001b[0m\u001b[0;34m\u001b[0m\u001b[0m\n\u001b[1;32m    897\u001b[0m                 \u001b[0mself\u001b[0m\u001b[0;34m.\u001b[0m\u001b[0mlog\u001b[0m\u001b[0;34m.\u001b[0m\u001b[0mwarning\u001b[0m\u001b[0;34m(\u001b[0m\u001b[0;34m\"Invalid Message:\"\u001b[0m\u001b[0;34m,\u001b[0m \u001b[0mexc_info\u001b[0m\u001b[0;34m=\u001b[0m\u001b[0;32mTrue\u001b[0m\u001b[0;34m)\u001b[0m\u001b[0;34m\u001b[0m\u001b[0;34m\u001b[0m\u001b[0m\n",
            "\u001b[0;31mKeyboardInterrupt\u001b[0m: Interrupted by user"
          ]
        }
      ]
    },
    {
      "cell_type": "code",
      "source": [
        "# 6. Escreva um algoritmo que leia valores inteiros e encontre o maior e o menor deles. Termine a leitura se o usuário digitar zero (0);\n",
        "maior = menor = None\n",
        "\n",
        "while True:\n",
        "    valor = int(input(\"Digite um valor inteiro (ou 0 para sair): \"))\n",
        "\n",
        "    if valor == 0:\n",
        "        if maior is None:\n",
        "            print(\"Nenhum valor foi inserido.\")\n",
        "        else:\n",
        "            print(f\"O maior valor inserido foi: {maior}\")\n",
        "            print(f\"O menor valor inserido foi: {menor}\")\n",
        "        break\n",
        "\n",
        "    if maior is None or valor > maior:\n",
        "        maior = valor\n",
        "\n",
        "    if menor is None or valor < menor:\n",
        "        menor = valor\n"
      ],
      "metadata": {
        "colab": {
          "base_uri": "https://localhost:8080/"
        },
        "id": "bUglZcLFbiIW",
        "outputId": "f191096f-4ef8-4763-fcd3-700c7225f8bd"
      },
      "execution_count": null,
      "outputs": [
        {
          "output_type": "stream",
          "name": "stdout",
          "text": [
            "Digite um valor inteiro (ou 0 para sair): 100\n",
            "Digite um valor inteiro (ou 0 para sair): 100\n",
            "Digite um valor inteiro (ou 0 para sair): 0\n",
            "O maior valor inserido foi: 100\n",
            "O menor valor inserido foi: 100\n"
          ]
        }
      ]
    }
  ]
}