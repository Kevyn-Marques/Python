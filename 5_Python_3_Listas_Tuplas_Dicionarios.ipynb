{
  "nbformat": 4,
  "nbformat_minor": 0,
  "metadata": {
    "colab": {
      "provenance": [],
      "include_colab_link": true
    },
    "kernelspec": {
      "name": "python3",
      "display_name": "Python 3"
    },
    "language_info": {
      "name": "python"
    }
  },
  "cells": [
    {
      "cell_type": "markdown",
      "metadata": {
        "id": "view-in-github",
        "colab_type": "text"
      },
      "source": [
        "<a href=\"https://colab.research.google.com/github/Kevyn-Marques/Python/blob/main/5_Python_3_Listas_Tuplas_Dicionarios.ipynb\" target=\"_parent\"><img src=\"https://colab.research.google.com/assets/colab-badge.svg\" alt=\"Open In Colab\"/></a>"
      ]
    },
    {
      "cell_type": "markdown",
      "metadata": {
        "id": "gUvuxgZ20i0B"
      },
      "source": [
        "# Vamos entender a diferença entre Listas, Tuplas e Dicionários em Python\n",
        "#### Listas [ ]\n",
        "#### Tuplas ( )\n",
        "#### Dicionário { }\n",
        "\n",
        "***Lista*** é uma coleção de valores indexada, em que cada valor é identificado por um índice. O primeiro item na lista está no índice 0, o segundo no índice 1 e assim por diante.\n",
        "\n",
        "**Tupla** é uma estrutura de dados semelhante a lista. Porém, ela tem a característica de ser imutável, ou seja, após uma tupla ser criada, ela não pode ser alterada.\n",
        "\n",
        "Os **dicionários** representam coleções de dados que contém na sua estrutura um conjunto de pares chave/valor, nos quais cada chave individual tem um valor associado. Esse objeto representa a ideia de um mapa, que entendemos como uma coleção associativa desordenada. A associação nos dicionários é feita por meio de uma chave que faz referência a um valor.\n",
        "\n"
      ]
    },
    {
      "cell_type": "markdown",
      "metadata": {
        "id": "UtCKk3Q39-9I"
      },
      "source": [
        "## Exemplos"
      ]
    },
    {
      "cell_type": "code",
      "metadata": {
        "id": "FNo89o9P9NeM"
      },
      "source": [
        "lista = [1,2,3]\n",
        "tupla = (1,2,3)\n",
        "dicionario= {'cod': 1, 'nome': 'Cíntia Pinho',}"
      ],
      "execution_count": null,
      "outputs": []
    },
    {
      "cell_type": "code",
      "metadata": {
        "colab": {
          "base_uri": "https://localhost:8080/"
        },
        "id": "xcMAlQ5C9rZ5",
        "outputId": "8d922174-58e2-47b6-91dc-1f6e10e75ef7"
      },
      "source": [
        "type(lista)"
      ],
      "execution_count": null,
      "outputs": [
        {
          "output_type": "execute_result",
          "data": {
            "text/plain": [
              "list"
            ]
          },
          "metadata": {},
          "execution_count": 36
        }
      ]
    },
    {
      "cell_type": "code",
      "metadata": {
        "colab": {
          "base_uri": "https://localhost:8080/"
        },
        "id": "wgq95-SG9xBk",
        "outputId": "7700193a-8fc2-4c6b-c36b-fa7eaab4223c"
      },
      "source": [
        "type(tupla)"
      ],
      "execution_count": null,
      "outputs": [
        {
          "output_type": "execute_result",
          "data": {
            "text/plain": [
              "tuple"
            ]
          },
          "metadata": {},
          "execution_count": 37
        }
      ]
    },
    {
      "cell_type": "code",
      "metadata": {
        "colab": {
          "base_uri": "https://localhost:8080/"
        },
        "id": "M4gOl8UT9zcM",
        "outputId": "0d6595f6-d22f-4f4c-eb85-e111f2b0fff7"
      },
      "source": [
        "type(dicionario)"
      ],
      "execution_count": null,
      "outputs": [
        {
          "output_type": "execute_result",
          "data": {
            "text/plain": [
              "dict"
            ]
          },
          "metadata": {},
          "execution_count": 38
        }
      ]
    },
    {
      "cell_type": "code",
      "metadata": {
        "colab": {
          "base_uri": "https://localhost:8080/"
        },
        "id": "6G9rb7Al92ag",
        "outputId": "d9b6b9d5-a126-46df-e6ef-bacea03e06f6"
      },
      "source": [
        "print(lista,tupla,dicionario)"
      ],
      "execution_count": null,
      "outputs": [
        {
          "output_type": "stream",
          "name": "stdout",
          "text": [
            "[1, 2, 3] (1, 2, 3) {'cod': 1, 'nome': 'Cíntia Pinho'}\n"
          ]
        }
      ]
    },
    {
      "cell_type": "markdown",
      "metadata": {
        "id": "VK-y3Nw60y-s"
      },
      "source": [
        "## OPERAÇÕES COM LISTAS"
      ]
    },
    {
      "cell_type": "code",
      "metadata": {
        "id": "zzKQOpbN0Hzl"
      },
      "source": [
        "# Criando uma lista com 1 item\n",
        "listadomercado = [\"ovos, farinha, leite, maças\"]"
      ],
      "execution_count": null,
      "outputs": []
    },
    {
      "cell_type": "code",
      "metadata": {
        "id": "jDmjEPya2mnQ"
      },
      "source": [
        "# Criando uma lista com vários itens\n",
        "listadomercado2 = [\"ovos\", \"farinha\", \"leite\", \"maças\"]"
      ],
      "execution_count": null,
      "outputs": []
    },
    {
      "cell_type": "code",
      "metadata": {
        "colab": {
          "base_uri": "https://localhost:8080/"
        },
        "id": "UuQgvyzG2zPc",
        "outputId": "7923dd2e-8420-4ee2-a51c-66478e09f7dd"
      },
      "source": [
        "listadomercado"
      ],
      "execution_count": null,
      "outputs": [
        {
          "output_type": "execute_result",
          "data": {
            "text/plain": [
              "['ovos, farinha, leite, maças']"
            ]
          },
          "metadata": {},
          "execution_count": 42
        }
      ]
    },
    {
      "cell_type": "code",
      "metadata": {
        "colab": {
          "base_uri": "https://localhost:8080/"
        },
        "id": "ER3VDOVH21EU",
        "outputId": "fc06ad2e-c7ee-481c-b5dc-dc08936be147"
      },
      "source": [
        "listadomercado2"
      ],
      "execution_count": null,
      "outputs": [
        {
          "output_type": "execute_result",
          "data": {
            "text/plain": [
              "['ovos', 'farinha', 'leite', 'maças']"
            ]
          },
          "metadata": {},
          "execution_count": 43
        }
      ]
    },
    {
      "cell_type": "code",
      "metadata": {
        "id": "L5dYnyYu04gW"
      },
      "source": [
        "# Criando OUTRA lista\n",
        "listaqtde = [2, 3, 4, 5]"
      ],
      "execution_count": null,
      "outputs": []
    },
    {
      "cell_type": "code",
      "metadata": {
        "colab": {
          "base_uri": "https://localhost:8080/"
        },
        "id": "w4DlDA7Z1De5",
        "outputId": "a9948398-174e-4be2-a36a-d4b9ab236a91"
      },
      "source": [
        "#unindo duas listas\n",
        "listadomercado2 + listaqtde"
      ],
      "execution_count": null,
      "outputs": [
        {
          "output_type": "execute_result",
          "data": {
            "text/plain": [
              "['ovos', 'farinha', 'leite', 'maças', 2, 3, 4, 5]"
            ]
          },
          "metadata": {},
          "execution_count": 45
        }
      ]
    },
    {
      "cell_type": "code",
      "metadata": {
        "colab": {
          "base_uri": "https://localhost:8080/"
        },
        "id": "rjJYDZeU1OC7",
        "outputId": "7925a456-e437-4133-f313-b3336a7afde0"
      },
      "source": [
        "#LISTAS COM DIFERENTES TIPOS DE DADOS\n",
        "# Criando lista\n",
        "lista3 = [3, 5, \"ETEC MCM\"]\n",
        "lista3"
      ],
      "execution_count": null,
      "outputs": [
        {
          "output_type": "execute_result",
          "data": {
            "text/plain": [
              "[3, 5, 'ETEC MCM']"
            ]
          },
          "metadata": {},
          "execution_count": 46
        }
      ]
    },
    {
      "cell_type": "code",
      "metadata": {
        "id": "rZ9cEHOl1maX"
      },
      "source": [
        "# Atribuindo cada valor da lista a uma variável.\n",
        "item1 = lista3[0]\n",
        "item2 = lista3[1]\n",
        "item3 = lista3[2]"
      ],
      "execution_count": null,
      "outputs": []
    },
    {
      "cell_type": "code",
      "metadata": {
        "colab": {
          "base_uri": "https://localhost:8080/",
          "height": 35
        },
        "id": "EIULp_E81oNn",
        "outputId": "49e6e1d9-e161-451d-de09-c150dac26413"
      },
      "source": [
        "#imprimindo apenas o terceiro item\n",
        "item3"
      ],
      "execution_count": null,
      "outputs": [
        {
          "output_type": "execute_result",
          "data": {
            "text/plain": [
              "'ETEC MCM'"
            ],
            "application/vnd.google.colaboratory.intrinsic+json": {
              "type": "string"
            }
          },
          "metadata": {},
          "execution_count": 48
        }
      ]
    },
    {
      "cell_type": "markdown",
      "metadata": {
        "id": "P9meVMw315p6"
      },
      "source": [
        "### Atualizando um ou mais item da lista"
      ]
    },
    {
      "cell_type": "code",
      "metadata": {
        "colab": {
          "base_uri": "https://localhost:8080/"
        },
        "id": "DAy22R9B2FKV",
        "outputId": "0dce286d-3d2c-4a67-fb34-b2c86e47e19e"
      },
      "source": [
        "listadomercado2"
      ],
      "execution_count": null,
      "outputs": [
        {
          "output_type": "execute_result",
          "data": {
            "text/plain": [
              "['ovos', 'farinha', 'leite', 'maças']"
            ]
          },
          "metadata": {},
          "execution_count": 49
        }
      ]
    },
    {
      "cell_type": "code",
      "metadata": {
        "id": "IGTqQptz14pg"
      },
      "source": [
        "listadomercado2[0] = \"doce\"\n",
        "listadomercado2[3] = \"feijão\""
      ],
      "execution_count": null,
      "outputs": []
    },
    {
      "cell_type": "code",
      "metadata": {
        "colab": {
          "base_uri": "https://localhost:8080/"
        },
        "id": "GfkOPYEi3ISx",
        "outputId": "2fcb9999-2b3e-48b4-fcb5-f84f331caacd"
      },
      "source": [
        "listadomercado2"
      ],
      "execution_count": null,
      "outputs": [
        {
          "output_type": "execute_result",
          "data": {
            "text/plain": [
              "['doce', 'farinha', 'leite', 'feijão']"
            ]
          },
          "metadata": {},
          "execution_count": 51
        }
      ]
    },
    {
      "cell_type": "code",
      "metadata": {
        "id": "qruv6x5-3oLF"
      },
      "source": [
        "\n",
        "# Deletando um item específico da lista\n",
        "del listadomercado2[3]"
      ],
      "execution_count": null,
      "outputs": []
    },
    {
      "cell_type": "code",
      "metadata": {
        "colab": {
          "base_uri": "https://localhost:8080/"
        },
        "id": "CPwxFie83qyR",
        "outputId": "14f1ffc2-45c3-46b4-f297-33f7bd86ad61"
      },
      "source": [
        "listadomercado2"
      ],
      "execution_count": null,
      "outputs": [
        {
          "output_type": "execute_result",
          "data": {
            "text/plain": [
              "['doce', 'farinha', 'leite']"
            ]
          },
          "metadata": {},
          "execution_count": 53
        }
      ]
    },
    {
      "cell_type": "markdown",
      "metadata": {
        "id": "ZJV-Ndbp31po"
      },
      "source": [
        "### Listas de listas (Listas aninhadas)"
      ]
    },
    {
      "cell_type": "code",
      "metadata": {
        "id": "PaRU_T_G1xwR"
      },
      "source": [
        "# Criando uma lista de listas\n",
        "listas = [[1,2,3], [10,15,14], [10.1,8.7,2.3]]"
      ],
      "execution_count": null,
      "outputs": []
    },
    {
      "cell_type": "code",
      "metadata": {
        "colab": {
          "base_uri": "https://localhost:8080/"
        },
        "id": "KimvKrR94E3O",
        "outputId": "f77c494d-27e2-4e86-de22-329b69c725b5"
      },
      "source": [
        "a = listas[0]\n",
        "a"
      ],
      "execution_count": null,
      "outputs": [
        {
          "output_type": "execute_result",
          "data": {
            "text/plain": [
              "[1, 2, 3]"
            ]
          },
          "metadata": {},
          "execution_count": 55
        }
      ]
    },
    {
      "cell_type": "markdown",
      "metadata": {
        "id": "Um3ewRD64Wgq"
      },
      "source": [
        "### Operador in"
      ]
    },
    {
      "cell_type": "code",
      "metadata": {
        "id": "e5cwoJ6t4VqX"
      },
      "source": [
        "# Criando uma lista\n",
        "lista_teste_op = [100, 2, -5, 3.4]\n",
        "lista_nomes = [\"arroz\", \"feijão\",\"cebola\"]"
      ],
      "execution_count": null,
      "outputs": []
    },
    {
      "cell_type": "code",
      "metadata": {
        "colab": {
          "base_uri": "https://localhost:8080/"
        },
        "id": "-8n_b9hT4l-J",
        "outputId": "6d8731cf-6cdd-4c20-aad1-9bfb05c40cbd"
      },
      "source": [
        "\"cebola\" in lista_nomes"
      ],
      "execution_count": null,
      "outputs": [
        {
          "output_type": "execute_result",
          "data": {
            "text/plain": [
              "True"
            ]
          },
          "metadata": {},
          "execution_count": 57
        }
      ]
    },
    {
      "cell_type": "code",
      "metadata": {
        "colab": {
          "base_uri": "https://localhost:8080/"
        },
        "id": "8uRSkTdv458k",
        "outputId": "84dfb770-85bc-4f77-a7a9-12323065f064"
      },
      "source": [
        "200 in lista_teste_op"
      ],
      "execution_count": null,
      "outputs": [
        {
          "output_type": "execute_result",
          "data": {
            "text/plain": [
              "False"
            ]
          },
          "metadata": {},
          "execution_count": 58
        }
      ]
    },
    {
      "cell_type": "markdown",
      "metadata": {
        "id": "CFqBCbY45M2w"
      },
      "source": [
        "\n",
        "### Funções Built-in"
      ]
    },
    {
      "cell_type": "code",
      "metadata": {
        "colab": {
          "base_uri": "https://localhost:8080/"
        },
        "id": "MagVsy6t5PXg",
        "outputId": "a6846600-1f38-4bbe-a298-b0897403c3bd"
      },
      "source": [
        "# Função len() retorna o comprimento da lista\n",
        "len(lista_teste_op)"
      ],
      "execution_count": null,
      "outputs": [
        {
          "output_type": "execute_result",
          "data": {
            "text/plain": [
              "4"
            ]
          },
          "metadata": {},
          "execution_count": 59
        }
      ]
    },
    {
      "cell_type": "code",
      "metadata": {
        "colab": {
          "base_uri": "https://localhost:8080/"
        },
        "id": "zz1PFR2K5WcW",
        "outputId": "0c326d16-6b2b-4119-efcf-ebfe648b9596"
      },
      "source": [
        "# Função max() retorna o valor máximo da lista\n",
        "max(lista_teste_op)"
      ],
      "execution_count": null,
      "outputs": [
        {
          "output_type": "execute_result",
          "data": {
            "text/plain": [
              "100"
            ]
          },
          "metadata": {},
          "execution_count": 60
        }
      ]
    },
    {
      "cell_type": "code",
      "metadata": {
        "colab": {
          "base_uri": "https://localhost:8080/"
        },
        "id": "zNbwjn765boG",
        "outputId": "fc16887e-ef37-4e2e-fd1d-347a021ebd17"
      },
      "source": [
        "# Função min() retorna o valor mínimo da lista\n",
        "min(lista_teste_op)"
      ],
      "execution_count": null,
      "outputs": [
        {
          "output_type": "execute_result",
          "data": {
            "text/plain": [
              "-5"
            ]
          },
          "metadata": {},
          "execution_count": 61
        }
      ]
    },
    {
      "cell_type": "code",
      "metadata": {
        "id": "cmyoVpXa5hRg"
      },
      "source": [
        "# Criando uma lista\n",
        "listadomercado2 = [\"ovos\", \"farinha\", \"leite\", \"maças\"]"
      ],
      "execution_count": null,
      "outputs": []
    },
    {
      "cell_type": "code",
      "metadata": {
        "id": "RRu76qYD5ndu"
      },
      "source": [
        "# Adicionando um item à lista\n",
        "listadomercado2.append(\"carne\")"
      ],
      "execution_count": null,
      "outputs": []
    },
    {
      "cell_type": "code",
      "metadata": {
        "colab": {
          "base_uri": "https://localhost:8080/"
        },
        "id": "pdeZvI6s6jZk",
        "outputId": "364fffa3-5741-4819-88b7-4e55cc52551a"
      },
      "source": [
        "listadomercado2"
      ],
      "execution_count": null,
      "outputs": [
        {
          "output_type": "execute_result",
          "data": {
            "text/plain": [
              "['ovos', 'farinha', 'leite', 'maças', 'carne']"
            ]
          },
          "metadata": {},
          "execution_count": 64
        }
      ]
    },
    {
      "cell_type": "code",
      "metadata": {
        "colab": {
          "base_uri": "https://localhost:8080/"
        },
        "id": "UoQIS6N66lO1",
        "outputId": "cb6896e6-8796-4f98-d3e6-f08a07570801"
      },
      "source": [
        "listadomercado2.count(\"carne\")"
      ],
      "execution_count": null,
      "outputs": [
        {
          "output_type": "execute_result",
          "data": {
            "text/plain": [
              "1"
            ]
          },
          "metadata": {},
          "execution_count": 65
        }
      ]
    },
    {
      "cell_type": "code",
      "metadata": {
        "colab": {
          "base_uri": "https://localhost:8080/"
        },
        "id": "dOk-kzh36t06",
        "outputId": "68bc9625-421c-477a-ab76-78d2175d9908"
      },
      "source": [
        "cidades = ['Recife', 'Manaus', 'Salvador']\n",
        "cidades.extend(['Fortaleza', 'Palmas'])\n",
        "print (cidades)"
      ],
      "execution_count": null,
      "outputs": [
        {
          "output_type": "stream",
          "name": "stdout",
          "text": [
            "['Recife', 'Manaus', 'Salvador', 'Fortaleza', 'Palmas']\n"
          ]
        }
      ]
    },
    {
      "cell_type": "code",
      "metadata": {
        "colab": {
          "base_uri": "https://localhost:8080/"
        },
        "id": "IaUTn87L7Ea_",
        "outputId": "6d428ce9-12ab-4929-8220-6d96bb955929"
      },
      "source": [
        "# Reverte a lista\n",
        "cidades.reverse()\n",
        "cidades"
      ],
      "execution_count": null,
      "outputs": [
        {
          "output_type": "execute_result",
          "data": {
            "text/plain": [
              "['Palmas', 'Fortaleza', 'Salvador', 'Manaus', 'Recife']"
            ]
          },
          "metadata": {},
          "execution_count": 67
        }
      ]
    },
    {
      "cell_type": "code",
      "metadata": {
        "id": "Gglz-Fyo7JUi"
      },
      "source": [
        "x = [3, 4, 2, 1]"
      ],
      "execution_count": null,
      "outputs": []
    },
    {
      "cell_type": "markdown",
      "metadata": {
        "id": "qf1BrrCY7tET"
      },
      "source": [
        "#OPERAÇÕES COM TUPLAS"
      ]
    },
    {
      "cell_type": "code",
      "metadata": {
        "id": "fsR9uZQ57vg2"
      },
      "source": [
        "# Criando uma tupla\n",
        "tupla1 = (\"Geografia\", 23, \"Elefantes\")"
      ],
      "execution_count": null,
      "outputs": []
    },
    {
      "cell_type": "code",
      "metadata": {
        "colab": {
          "base_uri": "https://localhost:8080/"
        },
        "id": "JHW6Pra_9Jzj",
        "outputId": "e963bea5-1e29-4950-ab9f-198a385e8425"
      },
      "source": [
        "tupla1"
      ],
      "execution_count": null,
      "outputs": [
        {
          "output_type": "execute_result",
          "data": {
            "text/plain": [
              "('Geografia', 23, 'Elefantes')"
            ]
          },
          "metadata": {},
          "execution_count": 70
        }
      ]
    },
    {
      "cell_type": "code",
      "metadata": {
        "colab": {
          "base_uri": "https://localhost:8080/",
          "height": 193
        },
        "id": "kqtjNNeR-Nf3",
        "outputId": "48fa4890-3860-4811-8905-17b87c20bbd7"
      },
      "source": [
        "# Tuplas não suportam append()\n",
        "tupla1.append(\"Chocolate\")"
      ],
      "execution_count": null,
      "outputs": [
        {
          "output_type": "error",
          "ename": "AttributeError",
          "evalue": "ignored",
          "traceback": [
            "\u001b[0;31m---------------------------------------------------------------------------\u001b[0m",
            "\u001b[0;31mAttributeError\u001b[0m                            Traceback (most recent call last)",
            "\u001b[0;32m<ipython-input-71-677cca980858>\u001b[0m in \u001b[0;36m<cell line: 2>\u001b[0;34m()\u001b[0m\n\u001b[1;32m      1\u001b[0m \u001b[0;31m# Tuplas não suportam append()\u001b[0m\u001b[0;34m\u001b[0m\u001b[0;34m\u001b[0m\u001b[0m\n\u001b[0;32m----> 2\u001b[0;31m \u001b[0mtupla1\u001b[0m\u001b[0;34m.\u001b[0m\u001b[0mappend\u001b[0m\u001b[0;34m(\u001b[0m\u001b[0;34m\"Chocolate\"\u001b[0m\u001b[0;34m)\u001b[0m\u001b[0;34m\u001b[0m\u001b[0;34m\u001b[0m\u001b[0m\n\u001b[0m",
            "\u001b[0;31mAttributeError\u001b[0m: 'tuple' object has no attribute 'append'"
          ]
        }
      ]
    },
    {
      "cell_type": "code",
      "metadata": {
        "id": "aMqusx0G-OsP"
      },
      "source": [
        "# Tuplas não suportam delete de um item específico\n",
        "del tupla1[\"Gatos\"]"
      ],
      "execution_count": null,
      "outputs": []
    },
    {
      "cell_type": "code",
      "metadata": {
        "id": "OHCGwVJp-Wmz"
      },
      "source": [
        "#Possui índice como na lista\n",
        "tupla1[0]"
      ],
      "execution_count": null,
      "outputs": []
    },
    {
      "cell_type": "code",
      "metadata": {
        "id": "mJRSjNbM-xvG"
      },
      "source": [
        "tupla1.index('Elefantes')"
      ],
      "execution_count": null,
      "outputs": []
    },
    {
      "cell_type": "code",
      "metadata": {
        "id": "f6KHq44i-z6X"
      },
      "source": [
        "# Deletando a tupla inteira, não apenas um item de dentro dela\n",
        "del tupla1"
      ],
      "execution_count": null,
      "outputs": []
    },
    {
      "cell_type": "code",
      "metadata": {
        "id": "owviNXQF--f-"
      },
      "source": [
        "tupla1"
      ],
      "execution_count": null,
      "outputs": []
    },
    {
      "cell_type": "code",
      "metadata": {
        "id": "8Tg-yUn7_CCd"
      },
      "source": [
        "# Criando uma tupla\n",
        "t2 = ('A', 'B', 'C')"
      ],
      "execution_count": null,
      "outputs": []
    },
    {
      "cell_type": "code",
      "metadata": {
        "id": "t3V87SWR_FvD"
      },
      "source": [
        "# Tuplas não suportam atribuição de item\n",
        "t2[0] = 'D'"
      ],
      "execution_count": null,
      "outputs": []
    },
    {
      "cell_type": "code",
      "metadata": {
        "id": "5VGJKOeW_RdU"
      },
      "source": [
        "# Usando a função list() para converter uma tupla para lista\n",
        "lista_t2 = list(t2)"
      ],
      "execution_count": null,
      "outputs": []
    },
    {
      "cell_type": "code",
      "metadata": {
        "id": "6jgUNx4d_SqZ"
      },
      "source": [
        "lista_t2.append(\"D\")"
      ],
      "execution_count": null,
      "outputs": []
    },
    {
      "cell_type": "code",
      "metadata": {
        "id": "l_AR2AR7_YQe"
      },
      "source": [
        "# Usando a função tuple() para converter uma lista para tupla\n",
        "t2 = tuple(lista_t2)"
      ],
      "execution_count": null,
      "outputs": []
    },
    {
      "cell_type": "code",
      "metadata": {
        "id": "HoASbmhY_a7A"
      },
      "source": [
        "t2"
      ],
      "execution_count": null,
      "outputs": []
    },
    {
      "cell_type": "markdown",
      "metadata": {
        "id": "VwfTmhxv_pF9"
      },
      "source": [
        "# ALGUMAS OPERAÇÕES COM DICIONÁRIOS"
      ]
    },
    {
      "cell_type": "code",
      "metadata": {
        "colab": {
          "base_uri": "https://localhost:8080/"
        },
        "id": "3-GG_zfW_u5X",
        "outputId": "5d321bdd-bfec-4057-e1bd-bcbd5f063120"
      },
      "source": [
        "# Isso é uma lista\n",
        "estudantes_lst = [\"Mateus\", 24, \"Fernanda\", 22, \"Tamires\", 26, \"Cristiano\", 25]\n",
        "estudantes_lst"
      ],
      "execution_count": null,
      "outputs": [
        {
          "output_type": "execute_result",
          "data": {
            "text/plain": [
              "['Mateus', 24, 'Fernanda', 22, 'Tamires', 26, 'Cristiano', 25]"
            ]
          },
          "metadata": {},
          "execution_count": 97
        }
      ]
    },
    {
      "cell_type": "code",
      "metadata": {
        "colab": {
          "base_uri": "https://localhost:8080/"
        },
        "id": "lp0HQgz8_8Ov",
        "outputId": "3dee35d7-9b92-48a1-c1b2-e69f5a78301f"
      },
      "source": [
        "# Isso é um dicionário\n",
        "estudantes_dict = {\"Mateus\":24, \"Fernanda\":22, \"Tamires\":26, \"Cristiano\":25}\n",
        "estudantes_dict"
      ],
      "execution_count": null,
      "outputs": [
        {
          "output_type": "execute_result",
          "data": {
            "text/plain": [
              "{'Cristiano': 25, 'Fernanda': 22, 'Mateus': 24, 'Tamires': 26}"
            ]
          },
          "metadata": {},
          "execution_count": 98
        }
      ]
    },
    {
      "cell_type": "code",
      "metadata": {
        "colab": {
          "base_uri": "https://localhost:8080/"
        },
        "id": "NmRFwvKAADpC",
        "outputId": "107e3e49-e865-4464-9da7-7a3bf7329497"
      },
      "source": [
        "estudantes_dict[\"Mateus\"]"
      ],
      "execution_count": null,
      "outputs": [
        {
          "output_type": "execute_result",
          "data": {
            "text/plain": [
              "24"
            ]
          },
          "metadata": {},
          "execution_count": 99
        }
      ]
    },
    {
      "cell_type": "code",
      "metadata": {
        "colab": {
          "base_uri": "https://localhost:8080/"
        },
        "id": "y1O-e2WuAGsz",
        "outputId": "0a5a1587-5941-445d-ec36-bf258ebe30a6"
      },
      "source": [
        "estudantes_dict.clear()\n",
        "estudantes_dict"
      ],
      "execution_count": null,
      "outputs": [
        {
          "output_type": "execute_result",
          "data": {
            "text/plain": [
              "{}"
            ]
          },
          "metadata": {},
          "execution_count": 101
        }
      ]
    },
    {
      "cell_type": "code",
      "metadata": {
        "colab": {
          "base_uri": "https://localhost:8080/",
          "height": 167
        },
        "id": "IdS18PzWAXoF",
        "outputId": "24a951ce-0db8-4177-ca62-2dbd4b856c0c"
      },
      "source": [
        "estudantes_dict.append({\"Cintia\":40})"
      ],
      "execution_count": null,
      "outputs": [
        {
          "output_type": "error",
          "ename": "AttributeError",
          "evalue": "ignored",
          "traceback": [
            "\u001b[0;31m---------------------------------------------------------------------------\u001b[0m",
            "\u001b[0;31mAttributeError\u001b[0m                            Traceback (most recent call last)",
            "\u001b[0;32m<ipython-input-103-fd76098d73d3>\u001b[0m in \u001b[0;36m<module>\u001b[0;34m()\u001b[0m\n\u001b[0;32m----> 1\u001b[0;31m \u001b[0mestudantes_dict\u001b[0m\u001b[0;34m.\u001b[0m\u001b[0mappend\u001b[0m\u001b[0;34m(\u001b[0m\u001b[0;34m{\u001b[0m\u001b[0;34m\"Cintia\"\u001b[0m\u001b[0;34m:\u001b[0m\u001b[0;36m40\u001b[0m\u001b[0;34m}\u001b[0m\u001b[0;34m)\u001b[0m\u001b[0;34m\u001b[0m\u001b[0;34m\u001b[0m\u001b[0m\n\u001b[0m",
            "\u001b[0;31mAttributeError\u001b[0m: 'dict' object has no attribute 'append'"
          ]
        }
      ]
    },
    {
      "cell_type": "code",
      "metadata": {
        "id": "ksDJD7RwAoWb"
      },
      "source": [
        "estudantes_dict = {\"Cíntia\":40, \"Fernanda\":22, \"Tamires\":26, \"Cristiano\":25}"
      ],
      "execution_count": null,
      "outputs": []
    },
    {
      "cell_type": "code",
      "metadata": {
        "colab": {
          "base_uri": "https://localhost:8080/"
        },
        "id": "90e95JyXA5ZC",
        "outputId": "6bf1ac15-9dbe-407a-ff2e-adba9ea213d3"
      },
      "source": [
        "len(estudantes_dict)"
      ],
      "execution_count": null,
      "outputs": [
        {
          "output_type": "execute_result",
          "data": {
            "text/plain": [
              "4"
            ]
          },
          "metadata": {},
          "execution_count": 105
        }
      ]
    },
    {
      "cell_type": "code",
      "metadata": {
        "colab": {
          "base_uri": "https://localhost:8080/"
        },
        "id": "IsExi2dFBF9C",
        "outputId": "c4623b73-f9e2-490b-a7da-10c8f65b09ee"
      },
      "source": [
        "estudantes_dict.keys()"
      ],
      "execution_count": null,
      "outputs": [
        {
          "output_type": "execute_result",
          "data": {
            "text/plain": [
              "dict_keys(['Cíntia', 'Fernanda', 'Tamires', 'Cristiano'])"
            ]
          },
          "metadata": {},
          "execution_count": 110
        }
      ]
    },
    {
      "cell_type": "code",
      "metadata": {
        "colab": {
          "base_uri": "https://localhost:8080/"
        },
        "id": "gPWU25P7BTJS",
        "outputId": "e7ba31f0-13dd-4dc1-d5ff-8414ecb908a1"
      },
      "source": [
        "estudantes_dict.values()"
      ],
      "execution_count": null,
      "outputs": [
        {
          "output_type": "execute_result",
          "data": {
            "text/plain": [
              "dict_values([40, 22, 26, 25])"
            ]
          },
          "metadata": {},
          "execution_count": 112
        }
      ]
    },
    {
      "cell_type": "code",
      "metadata": {
        "id": "G_NO0WB0BLL7"
      },
      "source": [
        "estudantes2 = {\"Maria\":27, \"Erika\":28, \"Milton\":26}"
      ],
      "execution_count": null,
      "outputs": []
    },
    {
      "cell_type": "code",
      "metadata": {
        "colab": {
          "base_uri": "https://localhost:8080/"
        },
        "id": "27E7fjxIBZLK",
        "outputId": "bc28dff3-f150-4582-c0db-dd183147ad16"
      },
      "source": [
        "estudantes_dict.update(estudantes2)\n",
        "estudantes_dict"
      ],
      "execution_count": null,
      "outputs": [
        {
          "output_type": "execute_result",
          "data": {
            "text/plain": [
              "{'Cristiano': 25,\n",
              " 'Cíntia': 40,\n",
              " 'Erika': 28,\n",
              " 'Fernanda': 22,\n",
              " 'Maria': 27,\n",
              " 'Milton': 26,\n",
              " 'Tamires': 26}"
            ]
          },
          "metadata": {},
          "execution_count": 115
        }
      ]
    },
    {
      "cell_type": "code",
      "metadata": {
        "id": "1TsCxEotB0ho"
      },
      "source": [
        "#ACRESCENTAR ITENS POR PARTES\n",
        "dic1 = {}"
      ],
      "execution_count": null,
      "outputs": []
    },
    {
      "cell_type": "code",
      "metadata": {
        "id": "l2lhuOoiCF7E"
      },
      "source": [
        "dic1[\"Cíntia\"] = 40\n",
        "dic1[\"Augusto\"] = 80\n",
        "dic1[\"Olavo\"] = 60\n"
      ],
      "execution_count": null,
      "outputs": []
    },
    {
      "cell_type": "code",
      "metadata": {
        "colab": {
          "base_uri": "https://localhost:8080/"
        },
        "id": "VbQKjT5SCWXS",
        "outputId": "32f92139-8ece-42fb-ef26-547520687ad8"
      },
      "source": [
        "dic1"
      ],
      "execution_count": null,
      "outputs": [
        {
          "output_type": "execute_result",
          "data": {
            "text/plain": [
              "{'Augusto': 80, 'Cíntia': 40, 'Olavo': 60}"
            ]
          },
          "metadata": {},
          "execution_count": 118
        }
      ]
    },
    {
      "cell_type": "code",
      "metadata": {
        "id": "GlU84gHYCYei"
      },
      "source": [
        "# Dicionário de listas\n",
        "dict3 = {'key1':1230,'key2':[22,453,73.4],'key3':['leite','maça','batata']}"
      ],
      "execution_count": null,
      "outputs": []
    },
    {
      "cell_type": "code",
      "metadata": {
        "colab": {
          "base_uri": "https://localhost:8080/",
          "height": 35
        },
        "id": "iHPgdZ92Cn_m",
        "outputId": "6d358301-1e99-4a71-833f-f0d80f945947"
      },
      "source": [
        "# Acessando um item da lista, dentro do dicionário\n",
        "dict3['key3'][0].upper()"
      ],
      "execution_count": null,
      "outputs": [
        {
          "output_type": "execute_result",
          "data": {
            "application/vnd.google.colaboratory.intrinsic+json": {
              "type": "string"
            },
            "text/plain": [
              "'LEITE'"
            ]
          },
          "metadata": {},
          "execution_count": 120
        }
      ]
    }
  ]
}